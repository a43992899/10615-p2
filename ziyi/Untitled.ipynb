{
 "cells": [
  {
   "cell_type": "code",
   "execution_count": 19,
   "id": "7b4c7048-a1b1-42af-8608-057ca72bb676",
   "metadata": {},
   "outputs": [
    {
     "name": "stderr",
     "output_type": "stream",
     "text": [
      "[nltk_data] Downloading package stopwords to /home/yrb/nltk_data...\n",
      "[nltk_data]   Package stopwords is already up-to-date!\n",
      "[nltk_data] Downloading package punkt to /home/yrb/nltk_data...\n",
      "[nltk_data]   Unzipping tokenizers/punkt.zip.\n"
     ]
    }
   ],
   "source": [
    "import nltk\n",
    "import spacy\n",
    "from nltk.corpus import stopwords\n",
    "from nltk.tokenize import word_tokenize\n",
    "\n",
    "nltk.download('stopwords')\n",
    "nltk.download('punkt')"
   ]
  },
  {
   "cell_type": "code",
   "execution_count": 32,
   "id": "41b5f586-c751-4712-8a4c-e4dbdfc28b42",
   "metadata": {},
   "outputs": [],
   "source": [
    "def write_file(name, fd):\n",
    "    with open(name, \"w\") as o:\n",
    "        for k, v in fd.most_common():\n",
    "            o.write(str(k) + \"\\t\\t\" + str(v))\n",
    "            o.write(\"\\n\")\n",
    "            \n",
    "def get_fd(category):\n",
    "    f = open('/home/yrb/code/jupyter/10615-p2/data/'+category+'.txt')\n",
    "    raw = f.read()\n",
    "\n",
    "    stop_words = set(stopwords.words('english'))\n",
    "    word_tokens = word_tokenize(raw)\n",
    "    filtered_sentence = [w for w in word_tokens if not w.lower() in stop_words and w.isalnum()]\n",
    "\n",
    "    word_fd = nltk.FreqDist(filtered_sentence)\n",
    "    bigram_fd = nltk.FreqDist(nltk.bigrams(filtered_sentence))\n",
    "\n",
    "    write_file(category+\"_unigram.txt\", word_fd)\n",
    "    write_file(category+\"_bigram.txt\", bigram_fd)\n"
   ]
  },
  {
   "cell_type": "code",
   "execution_count": 33,
   "id": "af9bdfce-0e8e-43d5-bf20-1715fc4663a6",
   "metadata": {},
   "outputs": [],
   "source": [
    "get_fd(\"depression\")\n",
    "get_fd(\"eastern\")\n",
    "get_fd(\"philosophy+religion\")"
   ]
  },
  {
   "cell_type": "code",
   "execution_count": null,
   "id": "50e8c661-a0d1-49aa-bf34-4091b1862af5",
   "metadata": {},
   "outputs": [],
   "source": []
  }
 ],
 "metadata": {
  "kernelspec": {
   "display_name": "Python 3 (ipykernel)",
   "language": "python",
   "name": "python3"
  },
  "language_info": {
   "codemirror_mode": {
    "name": "ipython",
    "version": 3
   },
   "file_extension": ".py",
   "mimetype": "text/x-python",
   "name": "python",
   "nbconvert_exporter": "python",
   "pygments_lexer": "ipython3",
   "version": "3.7.12"
  }
 },
 "nbformat": 4,
 "nbformat_minor": 5
}
