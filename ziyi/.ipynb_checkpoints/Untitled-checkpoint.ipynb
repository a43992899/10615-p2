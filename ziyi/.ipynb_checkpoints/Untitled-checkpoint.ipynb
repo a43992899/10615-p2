{
 "cells": [
  {
   "cell_type": "code",
   "execution_count": 6,
   "id": "71a9d85c-c039-4448-820a-4e37229a8bf6",
   "metadata": {},
   "outputs": [
    {
     "name": "stdout",
     "output_type": "stream",
     "text": [
      "Requirement already satisfied: spacy in /home/yrb/miniconda3/envs/jupyter_ENV/lib/python3.7/site-packages (3.2.2)\n",
      "Requirement already satisfied: pydantic!=1.8,!=1.8.1,<1.9.0,>=1.7.4 in /home/yrb/miniconda3/envs/jupyter_ENV/lib/python3.7/site-packages (from spacy) (1.8.2)\n",
      "Requirement already satisfied: requests<3.0.0,>=2.13.0 in /home/yrb/miniconda3/envs/jupyter_ENV/lib/python3.7/site-packages (from spacy) (2.27.1)\n",
      "Requirement already satisfied: pathy>=0.3.5 in /home/yrb/miniconda3/envs/jupyter_ENV/lib/python3.7/site-packages (from spacy) (0.6.1)\n",
      "Requirement already satisfied: wasabi<1.1.0,>=0.8.1 in /home/yrb/miniconda3/envs/jupyter_ENV/lib/python3.7/site-packages (from spacy) (0.9.0)\n",
      "Requirement already satisfied: blis<0.8.0,>=0.4.0 in /home/yrb/miniconda3/envs/jupyter_ENV/lib/python3.7/site-packages (from spacy) (0.7.5)\n",
      "Requirement already satisfied: packaging>=20.0 in /home/yrb/miniconda3/envs/jupyter_ENV/lib/python3.7/site-packages (from spacy) (21.3)\n",
      "Requirement already satisfied: numpy>=1.15.0 in /home/yrb/miniconda3/envs/jupyter_ENV/lib/python3.7/site-packages (from spacy) (1.21.5)\n",
      "Requirement already satisfied: tqdm<5.0.0,>=4.38.0 in /home/yrb/miniconda3/envs/jupyter_ENV/lib/python3.7/site-packages (from spacy) (4.62.3)\n",
      "Requirement already satisfied: langcodes<4.0.0,>=3.2.0 in /home/yrb/miniconda3/envs/jupyter_ENV/lib/python3.7/site-packages (from spacy) (3.3.0)\n",
      "Requirement already satisfied: preshed<3.1.0,>=3.0.2 in /home/yrb/miniconda3/envs/jupyter_ENV/lib/python3.7/site-packages (from spacy) (3.0.6)\n",
      "Requirement already satisfied: spacy-loggers<2.0.0,>=1.0.0 in /home/yrb/miniconda3/envs/jupyter_ENV/lib/python3.7/site-packages (from spacy) (1.0.1)\n",
      "Requirement already satisfied: srsly<3.0.0,>=2.4.1 in /home/yrb/miniconda3/envs/jupyter_ENV/lib/python3.7/site-packages (from spacy) (2.4.2)\n",
      "Requirement already satisfied: murmurhash<1.1.0,>=0.28.0 in /home/yrb/miniconda3/envs/jupyter_ENV/lib/python3.7/site-packages (from spacy) (1.0.6)\n",
      "Requirement already satisfied: setuptools in /home/yrb/miniconda3/envs/jupyter_ENV/lib/python3.7/site-packages (from spacy) (58.0.4)\n",
      "Requirement already satisfied: spacy-legacy<3.1.0,>=3.0.8 in /home/yrb/miniconda3/envs/jupyter_ENV/lib/python3.7/site-packages (from spacy) (3.0.8)\n",
      "Requirement already satisfied: jinja2 in /home/yrb/miniconda3/envs/jupyter_ENV/lib/python3.7/site-packages (from spacy) (3.0.3)\n",
      "Requirement already satisfied: cymem<2.1.0,>=2.0.2 in /home/yrb/miniconda3/envs/jupyter_ENV/lib/python3.7/site-packages (from spacy) (2.0.6)\n",
      "Requirement already satisfied: thinc<8.1.0,>=8.0.12 in /home/yrb/miniconda3/envs/jupyter_ENV/lib/python3.7/site-packages (from spacy) (8.0.13)\n",
      "Requirement already satisfied: typer<0.5.0,>=0.3.0 in /home/yrb/miniconda3/envs/jupyter_ENV/lib/python3.7/site-packages (from spacy) (0.4.0)\n",
      "Requirement already satisfied: typing-extensions<4.0.0.0,>=3.7.4 in /home/yrb/miniconda3/envs/jupyter_ENV/lib/python3.7/site-packages (from spacy) (3.10.0.2)\n",
      "Requirement already satisfied: catalogue<2.1.0,>=2.0.6 in /home/yrb/miniconda3/envs/jupyter_ENV/lib/python3.7/site-packages (from spacy) (2.0.6)\n",
      "Requirement already satisfied: zipp>=0.5 in /home/yrb/miniconda3/envs/jupyter_ENV/lib/python3.7/site-packages (from catalogue<2.1.0,>=2.0.6->spacy) (3.7.0)\n",
      "Requirement already satisfied: pyparsing!=3.0.5,>=2.0.2 in /home/yrb/miniconda3/envs/jupyter_ENV/lib/python3.7/site-packages (from packaging>=20.0->spacy) (3.0.6)\n",
      "Requirement already satisfied: smart-open<6.0.0,>=5.0.0 in /home/yrb/miniconda3/envs/jupyter_ENV/lib/python3.7/site-packages (from pathy>=0.3.5->spacy) (5.2.1)\n",
      "Requirement already satisfied: idna<4,>=2.5 in /home/yrb/miniconda3/envs/jupyter_ENV/lib/python3.7/site-packages (from requests<3.0.0,>=2.13.0->spacy) (3.1)\n",
      "Requirement already satisfied: charset-normalizer~=2.0.0 in /home/yrb/miniconda3/envs/jupyter_ENV/lib/python3.7/site-packages (from requests<3.0.0,>=2.13.0->spacy) (2.0.10)\n",
      "Requirement already satisfied: certifi>=2017.4.17 in /home/yrb/miniconda3/envs/jupyter_ENV/lib/python3.7/site-packages (from requests<3.0.0,>=2.13.0->spacy) (2021.10.8)\n",
      "Requirement already satisfied: urllib3<1.27,>=1.21.1 in /home/yrb/miniconda3/envs/jupyter_ENV/lib/python3.7/site-packages (from requests<3.0.0,>=2.13.0->spacy) (1.26.8)\n",
      "Requirement already satisfied: click<9.0.0,>=7.1.1 in /home/yrb/miniconda3/envs/jupyter_ENV/lib/python3.7/site-packages (from typer<0.5.0,>=0.3.0->spacy) (8.0.3)\n",
      "Requirement already satisfied: importlib-metadata in /home/yrb/miniconda3/envs/jupyter_ENV/lib/python3.7/site-packages (from click<9.0.0,>=7.1.1->typer<0.5.0,>=0.3.0->spacy) (4.2.0)\n",
      "Requirement already satisfied: MarkupSafe>=2.0 in /home/yrb/miniconda3/envs/jupyter_ENV/lib/python3.7/site-packages (from jinja2->spacy) (2.0.1)\n",
      "\u001b[38;5;3m⚠ As of spaCy v3.0, shortcuts like 'en' are deprecated. Please use the\n",
      "full pipeline package name 'en_core_web_sm' instead.\u001b[0m\n",
      "Collecting en-core-web-sm==3.2.0\n",
      "  Downloading https://github.com/explosion/spacy-models/releases/download/en_core_web_sm-3.2.0/en_core_web_sm-3.2.0-py3-none-any.whl (13.9 MB)\n",
      "\u001b[K     |████████████████████████████████| 13.9 MB 7.3 MB/s eta 0:00:01\n",
      "\u001b[?25hRequirement already satisfied: spacy<3.3.0,>=3.2.0 in /home/yrb/miniconda3/envs/jupyter_ENV/lib/python3.7/site-packages (from en-core-web-sm==3.2.0) (3.2.2)\n",
      "Requirement already satisfied: pathy>=0.3.5 in /home/yrb/miniconda3/envs/jupyter_ENV/lib/python3.7/site-packages (from spacy<3.3.0,>=3.2.0->en-core-web-sm==3.2.0) (0.6.1)\n",
      "Requirement already satisfied: typing-extensions<4.0.0.0,>=3.7.4 in /home/yrb/miniconda3/envs/jupyter_ENV/lib/python3.7/site-packages (from spacy<3.3.0,>=3.2.0->en-core-web-sm==3.2.0) (3.10.0.2)\n",
      "Requirement already satisfied: catalogue<2.1.0,>=2.0.6 in /home/yrb/miniconda3/envs/jupyter_ENV/lib/python3.7/site-packages (from spacy<3.3.0,>=3.2.0->en-core-web-sm==3.2.0) (2.0.6)\n",
      "Requirement already satisfied: blis<0.8.0,>=0.4.0 in /home/yrb/miniconda3/envs/jupyter_ENV/lib/python3.7/site-packages (from spacy<3.3.0,>=3.2.0->en-core-web-sm==3.2.0) (0.7.5)\n",
      "Requirement already satisfied: numpy>=1.15.0 in /home/yrb/miniconda3/envs/jupyter_ENV/lib/python3.7/site-packages (from spacy<3.3.0,>=3.2.0->en-core-web-sm==3.2.0) (1.21.5)\n",
      "Requirement already satisfied: pydantic!=1.8,!=1.8.1,<1.9.0,>=1.7.4 in /home/yrb/miniconda3/envs/jupyter_ENV/lib/python3.7/site-packages (from spacy<3.3.0,>=3.2.0->en-core-web-sm==3.2.0) (1.8.2)\n",
      "Requirement already satisfied: preshed<3.1.0,>=3.0.2 in /home/yrb/miniconda3/envs/jupyter_ENV/lib/python3.7/site-packages (from spacy<3.3.0,>=3.2.0->en-core-web-sm==3.2.0) (3.0.6)\n",
      "Requirement already satisfied: requests<3.0.0,>=2.13.0 in /home/yrb/miniconda3/envs/jupyter_ENV/lib/python3.7/site-packages (from spacy<3.3.0,>=3.2.0->en-core-web-sm==3.2.0) (2.27.1)\n",
      "Requirement already satisfied: wasabi<1.1.0,>=0.8.1 in /home/yrb/miniconda3/envs/jupyter_ENV/lib/python3.7/site-packages (from spacy<3.3.0,>=3.2.0->en-core-web-sm==3.2.0) (0.9.0)\n",
      "Requirement already satisfied: thinc<8.1.0,>=8.0.12 in /home/yrb/miniconda3/envs/jupyter_ENV/lib/python3.7/site-packages (from spacy<3.3.0,>=3.2.0->en-core-web-sm==3.2.0) (8.0.13)\n",
      "Requirement already satisfied: packaging>=20.0 in /home/yrb/miniconda3/envs/jupyter_ENV/lib/python3.7/site-packages (from spacy<3.3.0,>=3.2.0->en-core-web-sm==3.2.0) (21.3)\n",
      "Requirement already satisfied: cymem<2.1.0,>=2.0.2 in /home/yrb/miniconda3/envs/jupyter_ENV/lib/python3.7/site-packages (from spacy<3.3.0,>=3.2.0->en-core-web-sm==3.2.0) (2.0.6)\n",
      "Requirement already satisfied: spacy-loggers<2.0.0,>=1.0.0 in /home/yrb/miniconda3/envs/jupyter_ENV/lib/python3.7/site-packages (from spacy<3.3.0,>=3.2.0->en-core-web-sm==3.2.0) (1.0.1)\n",
      "Requirement already satisfied: setuptools in /home/yrb/miniconda3/envs/jupyter_ENV/lib/python3.7/site-packages (from spacy<3.3.0,>=3.2.0->en-core-web-sm==3.2.0) (58.0.4)\n",
      "Requirement already satisfied: tqdm<5.0.0,>=4.38.0 in /home/yrb/miniconda3/envs/jupyter_ENV/lib/python3.7/site-packages (from spacy<3.3.0,>=3.2.0->en-core-web-sm==3.2.0) (4.62.3)\n",
      "Requirement already satisfied: srsly<3.0.0,>=2.4.1 in /home/yrb/miniconda3/envs/jupyter_ENV/lib/python3.7/site-packages (from spacy<3.3.0,>=3.2.0->en-core-web-sm==3.2.0) (2.4.2)\n",
      "Requirement already satisfied: murmurhash<1.1.0,>=0.28.0 in /home/yrb/miniconda3/envs/jupyter_ENV/lib/python3.7/site-packages (from spacy<3.3.0,>=3.2.0->en-core-web-sm==3.2.0) (1.0.6)\n",
      "Requirement already satisfied: typer<0.5.0,>=0.3.0 in /home/yrb/miniconda3/envs/jupyter_ENV/lib/python3.7/site-packages (from spacy<3.3.0,>=3.2.0->en-core-web-sm==3.2.0) (0.4.0)\n",
      "Requirement already satisfied: spacy-legacy<3.1.0,>=3.0.8 in /home/yrb/miniconda3/envs/jupyter_ENV/lib/python3.7/site-packages (from spacy<3.3.0,>=3.2.0->en-core-web-sm==3.2.0) (3.0.8)\n",
      "Requirement already satisfied: jinja2 in /home/yrb/miniconda3/envs/jupyter_ENV/lib/python3.7/site-packages (from spacy<3.3.0,>=3.2.0->en-core-web-sm==3.2.0) (3.0.3)\n",
      "Requirement already satisfied: langcodes<4.0.0,>=3.2.0 in /home/yrb/miniconda3/envs/jupyter_ENV/lib/python3.7/site-packages (from spacy<3.3.0,>=3.2.0->en-core-web-sm==3.2.0) (3.3.0)\n",
      "Requirement already satisfied: zipp>=0.5 in /home/yrb/miniconda3/envs/jupyter_ENV/lib/python3.7/site-packages (from catalogue<2.1.0,>=2.0.6->spacy<3.3.0,>=3.2.0->en-core-web-sm==3.2.0) (3.7.0)\n",
      "Requirement already satisfied: pyparsing!=3.0.5,>=2.0.2 in /home/yrb/miniconda3/envs/jupyter_ENV/lib/python3.7/site-packages (from packaging>=20.0->spacy<3.3.0,>=3.2.0->en-core-web-sm==3.2.0) (3.0.6)\n",
      "Requirement already satisfied: smart-open<6.0.0,>=5.0.0 in /home/yrb/miniconda3/envs/jupyter_ENV/lib/python3.7/site-packages (from pathy>=0.3.5->spacy<3.3.0,>=3.2.0->en-core-web-sm==3.2.0) (5.2.1)\n",
      "Requirement already satisfied: charset-normalizer~=2.0.0 in /home/yrb/miniconda3/envs/jupyter_ENV/lib/python3.7/site-packages (from requests<3.0.0,>=2.13.0->spacy<3.3.0,>=3.2.0->en-core-web-sm==3.2.0) (2.0.10)\n",
      "Requirement already satisfied: idna<4,>=2.5 in /home/yrb/miniconda3/envs/jupyter_ENV/lib/python3.7/site-packages (from requests<3.0.0,>=2.13.0->spacy<3.3.0,>=3.2.0->en-core-web-sm==3.2.0) (3.1)\n",
      "Requirement already satisfied: certifi>=2017.4.17 in /home/yrb/miniconda3/envs/jupyter_ENV/lib/python3.7/site-packages (from requests<3.0.0,>=2.13.0->spacy<3.3.0,>=3.2.0->en-core-web-sm==3.2.0) (2021.10.8)\n",
      "Requirement already satisfied: urllib3<1.27,>=1.21.1 in /home/yrb/miniconda3/envs/jupyter_ENV/lib/python3.7/site-packages (from requests<3.0.0,>=2.13.0->spacy<3.3.0,>=3.2.0->en-core-web-sm==3.2.0) (1.26.8)\n",
      "Requirement already satisfied: click<9.0.0,>=7.1.1 in /home/yrb/miniconda3/envs/jupyter_ENV/lib/python3.7/site-packages (from typer<0.5.0,>=0.3.0->spacy<3.3.0,>=3.2.0->en-core-web-sm==3.2.0) (8.0.3)\n",
      "Requirement already satisfied: importlib-metadata in /home/yrb/miniconda3/envs/jupyter_ENV/lib/python3.7/site-packages (from click<9.0.0,>=7.1.1->typer<0.5.0,>=0.3.0->spacy<3.3.0,>=3.2.0->en-core-web-sm==3.2.0) (4.2.0)\n",
      "Requirement already satisfied: MarkupSafe>=2.0 in /home/yrb/miniconda3/envs/jupyter_ENV/lib/python3.7/site-packages (from jinja2->spacy<3.3.0,>=3.2.0->en-core-web-sm==3.2.0) (2.0.1)\n",
      "Installing collected packages: en-core-web-sm\n",
      "Successfully installed en-core-web-sm-3.2.0\n",
      "\u001b[38;5;2m✔ Download and installation successful\u001b[0m\n",
      "You can now load the package via spacy.load('en_core_web_sm')\n"
     ]
    }
   ],
   "source": [
    "!pip install -U spacy\n",
    "!python -m spacy download en"
   ]
  },
  {
   "cell_type": "code",
   "execution_count": 8,
   "id": "7b4c7048-a1b1-42af-8608-057ca72bb676",
   "metadata": {},
   "outputs": [],
   "source": [
    "import nltk\n",
    "import spacy\n",
    "\n",
    "sp = spacy.load('en_core_web_sm')\n",
    "all_stopwords = sp.Defaults.stop_words"
   ]
  },
  {
   "cell_type": "code",
   "execution_count": 10,
   "id": "021415ca-9952-4f56-98a7-4404b106ac2a",
   "metadata": {},
   "outputs": [
    {
     "name": "stdout",
     "output_type": "stream",
     "text": [
      "{'sometime', 'hers', \"'ll\", 'that', 'therefore', 'very', 'can', 'thus', 'whereupon', 'moreover', 'last', 'them', 'out', 'being', 'seem', 'and', 'any', 'there', 'per', 'seems', 'get', 'both', 'not', 'by', 'serious', 'doing', 'could', 'us', 'during', 'please', 'used', 'as', 'she', 'unless', 'ever', 'indeed', 'anyway', 'while', 'keep', 'to', 'alone', 'will', \"'m\", '’d', 'i', 'an', 'from', 'after', 'been', 'yourself', 'empty', 'someone', 'since', 'four', 'take', 'only', 'well', 'where', '’m', 'still', 'various', 'but', 'anyone', 'top', 'itself', 'what', 'each', 'three', 'thence', 'your', 'because', 'hereby', 'all', 'this', 'make', 'when', 'quite', 'seeming', 'they', 'herein', 'up', 'now', 'do', 'ten', 'me', 'even', 'about', '‘ve', 'through', 'yourselves', 'go', 'though', 'be', 'amongst', 'nevertheless', 'thereafter', 'throughout', 'six', 'few', 'without', 'if', 'had', 'these', 'another', 'a', 'somehow', 'so', 'already', '’ll', 'thereupon', 'toward', 'except', 'thru', \"'re\", 'was', 'behind', 'meanwhile', 'more', \"n't\", 'were', 'same', 'regarding', 'in', 'noone', 'something', '‘d', 'once', 'side', 'he', 'mostly', 'less', 'might', 'yours', 'of', 'across', 'ca', 'formerly', 'my', 'become', 'although', 'say', 'name', 'becoming', 'would', 'own', 'almost', 'between', 'himself', 'for', 'is', 'our', 'show', 'whether', '’s', 'really', 'much', 'latterly', \"'ve\", 'anything', 'before', 'everywhere', '‘re', 'its', 'upon', 'third', 'themselves', 'twenty', 'does', 'whereas', 'why', 'against', 'am', '‘s', 're', 'who', 'the', 'his', 'front', 'within', 'how', 'whoever', 'whence', 'whereby', 'always', \"'s\", 'hereupon', 'never', 'several', '‘ll', '’ve', 'amount', 'whenever', 'none', 'those', 'some', 'besides', 'former', 'other', 'everyone', 'again', 'mine', 'done', 'around', 'part', 'whom', 'whose', 'five', 'neither', 'just', 'anyhow', 'became', 'whereafter', 'first', 'along', 'then', 'however', 'whole', 'beside', 'everything', 'latter', 'afterwards', 'into', 'yet', 'often', 'seemed', 'most', 'enough', 'hence', 'you', '‘m', 'myself', 'too', 'perhaps', 'also', 'wherever', 'either', 'no', 'nor', 'down', 'whatever', 'sixty', 'may', 'than', 'forty', 'many', 'twelve', 'here', 'beyond', 'see', 'must', 'nowhere', 'ourselves', 'full', 'or', 'herself', 'did', 'made', 'over', 'fifty', 'eleven', 'until', 'off', 'which', 'elsewhere', 'using', 'her', 'further', 'thereby', 'under', 'give', 'among', 'it', 'otherwise', 'rather', 'one', 'towards', 'others', 'wherein', 'somewhere', 'therein', 'him', 'together', 'such', 'n‘t', 'whither', 'onto', 'anywhere', 'below', 'nine', 'hereafter', 'n’t', 'we', 'have', 'should', 'namely', \"'d\", 'else', 'nobody', 'fifteen', 'with', 'at', 'least', 'nothing', 'two', 'on', 'beforehand', 'sometimes', 'are', 'ours', 'due', 'bottom', 'back', 'call', 'put', 'move', '’re', 'hundred', 'every', 'their', 'eight', 'becomes', 'has', 'next', 'above', 'cannot', 'via'}\n"
     ]
    },
    {
     "ename": "NameError",
     "evalue": "name 'word_tokenize' is not defined",
     "output_type": "error",
     "traceback": [
      "\u001b[0;31m---------------------------------------------------------------------------\u001b[0m",
      "\u001b[0;31mNameError\u001b[0m                                 Traceback (most recent call last)",
      "\u001b[0;32m/tmp/ipykernel_30262/3875623457.py\u001b[0m in \u001b[0;36m<module>\u001b[0;34m\u001b[0m\n\u001b[1;32m      9\u001b[0m \u001b[0;34m\u001b[0m\u001b[0m\n\u001b[1;32m     10\u001b[0m \u001b[0mtext\u001b[0m \u001b[0;34m=\u001b[0m \u001b[0;34m\"Nick likes to play football, however he is not too fond of tennis.\"\u001b[0m\u001b[0;34m\u001b[0m\u001b[0;34m\u001b[0m\u001b[0m\n\u001b[0;32m---> 11\u001b[0;31m \u001b[0mtext_tokens\u001b[0m \u001b[0;34m=\u001b[0m \u001b[0mword_tokenize\u001b[0m\u001b[0;34m(\u001b[0m\u001b[0mtext\u001b[0m\u001b[0;34m)\u001b[0m\u001b[0;34m\u001b[0m\u001b[0;34m\u001b[0m\u001b[0m\n\u001b[0m\u001b[1;32m     12\u001b[0m \u001b[0mtokens_without_sw\u001b[0m\u001b[0;34m=\u001b[0m \u001b[0;34m[\u001b[0m\u001b[0mword\u001b[0m \u001b[0;32mfor\u001b[0m \u001b[0mword\u001b[0m \u001b[0;32min\u001b[0m \u001b[0mtext_tokens\u001b[0m \u001b[0;32mif\u001b[0m \u001b[0;32mnot\u001b[0m \u001b[0mword\u001b[0m \u001b[0;32min\u001b[0m \u001b[0mall_stopwords\u001b[0m\u001b[0;34m]\u001b[0m\u001b[0;34m\u001b[0m\u001b[0;34m\u001b[0m\u001b[0m\n\u001b[1;32m     13\u001b[0m \u001b[0;34m\u001b[0m\u001b[0m\n",
      "\u001b[0;31mNameError\u001b[0m: name 'word_tokenize' is not defined"
     ]
    }
   ],
   "source": [
    "f = open('a_text_file')\n",
    "raw = f.read()\n",
    "text_tokens = word_tokenize(raw)\n",
    "tokens_without_sw = [word for word in text_tokens if not word in all_stopwords]\n",
    "\n",
    "word_fd = nltk.FreqDist(filtered_sentence)\n",
    "bigram_fd = nltk.FreqDist(nltk.bigrams(filtered_sentence))\n",
    "\n",
    "bigram_fd.most_common()\n"
   ]
  },
  {
   "cell_type": "code",
   "execution_count": null,
   "id": "71091c55-9c44-4bb0-a150-2114f4b9712e",
   "metadata": {},
   "outputs": [],
   "source": [
    "\n",
    "\n",
    "tokens = nltk.word_tokenize(raw)\n",
    "\n",
    "#Create your bigrams\n",
    "bgs = nltk.bigrams(tokens)\n",
    "\n",
    "#compute frequency distribution for all the bigrams in the text\n",
    "fdist = nltk.FreqDist(bgs)\n",
    "for k,v in fdist.items():\n",
    "    print k,v"
   ]
  }
 ],
 "metadata": {
  "kernelspec": {
   "display_name": "Python 3 (ipykernel)",
   "language": "python",
   "name": "python3"
  },
  "language_info": {
   "codemirror_mode": {
    "name": "ipython",
    "version": 3
   },
   "file_extension": ".py",
   "mimetype": "text/x-python",
   "name": "python",
   "nbconvert_exporter": "python",
   "pygments_lexer": "ipython3",
   "version": "3.7.12"
  }
 },
 "nbformat": 4,
 "nbformat_minor": 5
}
