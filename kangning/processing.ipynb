{
 "cells": [
  {
   "cell_type": "code",
   "execution_count": 2,
   "id": "5556ea80-2f18-4ea3-aa71-c13620d78ab7",
   "metadata": {},
   "outputs": [],
   "source": [
    "import sys, os"
   ]
  },
  {
   "cell_type": "code",
   "execution_count": 5,
   "id": "90dd24a4-9a65-498d-ada9-a56624a9dcd9",
   "metadata": {},
   "outputs": [
    {
     "name": "stdout",
     "output_type": "stream",
     "text": [
      "<module 'os' from '/home/yrb/miniconda3/envs/jupyter_ENV/lib/python3.7/os.py'>\n"
     ]
    }
   ],
   "source": [
    "print(os)"
   ]
  },
  {
   "cell_type": "code",
   "execution_count": 29,
   "id": "0d730c34-dcb3-4e70-9ac6-ddaba535a650",
   "metadata": {},
   "outputs": [],
   "source": [
    "def concat_files(filedir):\n",
    "    files = [f for f in os.listdir(filedir) if os.path.splitext(f)[1]=='.txt']\n",
    "    output = []\n",
    "    print(\"{:,d} files to concat\".format(len(files)))\n",
    "    for file in files:\n",
    "        file_abs = os.path.join(filedir, file)\n",
    "        \n",
    "        with open(file_abs, 'rb') as f:\n",
    "            lines = f.read().decode('utf-8', 'ignore').splitlines()\n",
    "            output.extend(lines)\n",
    "\n",
    "    concat_file = filedir+'.txt'\n",
    "    if os.path.exists(concat_file):\n",
    "        print(\"remove old file: {}\".format(concat_file))\n",
    "        os.remove(concat_file)\n",
    "    txt = \"\\n\".join(output)\n",
    "    with open(concat_file, 'w') as f:\n",
    "        f.write(txt)\n",
    "        \n",
    "    print('concat finished')\n",
    "    \n",
    "    \n",
    "# concat_files('/home/yrb/code/jupyter/10615-p2/data/depression')\n",
    "# concat_files('/home/yrb/code/jupyter/10615-p2/data/eastern')\n",
    "# concat_files('/home/yrb/code/jupyter/10615-p2/data/philosophy+religion')"
   ]
  },
  {
   "cell_type": "code",
   "execution_count": null,
   "id": "8a688c1a-2c88-4c7c-8fef-6f08b16b7ce5",
   "metadata": {},
   "outputs": [],
   "source": []
  },
  {
   "cell_type": "code",
   "execution_count": null,
   "id": "2b87bfbf-b4ac-444c-97b0-9fae337ebbdd",
   "metadata": {},
   "outputs": [],
   "source": []
  }
 ],
 "metadata": {
  "kernelspec": {
   "display_name": "Python 3 (ipykernel)",
   "language": "python",
   "name": "python3"
  },
  "language_info": {
   "codemirror_mode": {
    "name": "ipython",
    "version": 3
   },
   "file_extension": ".py",
   "mimetype": "text/x-python",
   "name": "python",
   "nbconvert_exporter": "python",
   "pygments_lexer": "ipython3",
   "version": "3.7.12"
  }
 },
 "nbformat": 4,
 "nbformat_minor": 5
}
